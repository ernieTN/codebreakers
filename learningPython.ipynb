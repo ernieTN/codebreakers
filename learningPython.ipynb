{
 "cells": [
  {
   "cell_type": "markdown",
   "metadata": {},
   "source": [
    "This is an Python notebook. To execute a cell, press shift-enter while the cursor is in the cell.\n",
    "\n",
    "There are several types of variables you need to know about.\n",
    "The first type the string type. In Python strings can be concatenated (combined) together by \"adding\" the strings together."
   ]
  },
  {
   "cell_type": "code",
   "execution_count": 4,
   "metadata": {
    "collapsed": false
   },
   "outputs": [
    {
     "name": "stdout",
     "output_type": "stream",
     "text": [
      "This is a LILI.This is Kyla.\n",
      "This is a LILI. This is Kyla.\n"
     ]
    }
   ],
   "source": [
    "String1 = \"This is a LILI.\"\n",
    "String2 = \"This is Kyla.\"\n",
    "print String1 + String2\n",
    "print String1 + \" \" + String2"
   ]
  },
  {
   "cell_type": "markdown",
   "metadata": {},
   "source": [
    "You can find the length (number of characters) of a string with len(variableName) function"
   ]
  },
  {
   "cell_type": "code",
   "execution_count": 5,
   "metadata": {
    "collapsed": false
   },
   "outputs": [
    {
     "name": "stdout",
     "output_type": "stream",
     "text": [
      "6\n"
     ]
    }
   ],
   "source": [
    "stringName = \"123456\"\n",
    "print len(stringName)"
   ]
  },
  {
   "cell_type": "markdown",
   "metadata": {},
   "source": [
    "You can find the character at any index (location: first, second....) of a string by putting the index in brackets after the varible name. Keep in mind that indexing starts at zero. So the first character has an index of 0 and the second character has an index of 1 and so on. Like this:"
   ]
  },
  {
   "cell_type": "code",
   "execution_count": 8,
   "metadata": {
    "collapsed": false
   },
   "outputs": [
    {
     "data": {
      "text/plain": [
       "'a'"
      ]
     },
     "execution_count": 8,
     "metadata": {},
     "output_type": "execute_result"
    }
   ],
   "source": [
    "string = \"abcde\"\n",
    "string[0]"
   ]
  },
  {
   "cell_type": "markdown",
   "metadata": {},
   "source": [
    "To get a substring use the VariableName[start:end] syntax. The first number is the index of the first character you would like returned. The second number is the index <b>after</b> the last character you would like. It is as if an imaginary knife is cutting between the characters and the divisions between the characters are numbered starting with 0th \"cut\" before the first character and nth or last cut after the nth or last character.\n",
    "<img src=\"files/pythonslice.png\">\n",
    "What do you think each of these commands will return?"
   ]
  },
  {
   "cell_type": "code",
   "execution_count": 17,
   "metadata": {
    "collapsed": false
   },
   "outputs": [
    {
     "name": "stdout",
     "output_type": "stream",
     "text": [
      "13\n",
      "Lili \n",
      "Tian\n",
      "Lili \n",
      "Lili and Tia\n"
     ]
    }
   ],
   "source": [
    "string = \"Lili and Tian\"\n",
    "x=len(string)\n",
    "print x\n",
    "print string[0:5]\n",
    "print string[-4:x]\n",
    "print string[0:5]\n",
    "print string[0:-1]"
   ]
  },
  {
   "cell_type": "markdown",
   "metadata": {},
   "source": [
    "There are two types of numbers you need to know about integers (whole numbers) and floating point (decimal numbers). Note that if you perform arithmetic on integers the answer will always be an integer even if the real answer isn't an integer."
   ]
  },
  {
   "cell_type": "code",
   "execution_count": 19,
   "metadata": {
    "collapsed": false
   },
   "outputs": [
    {
     "name": "stdout",
     "output_type": "stream",
     "text": [
      "Adding two integers:   7\n",
      "Dividing two integers: 1\n"
     ]
    }
   ],
   "source": [
    "x=3\n",
    "y=4\n",
    "print \"Adding two integers:  \", x + y\n",
    "print \"Dividing two integers:\", y/x"
   ]
  },
  {
   "cell_type": "markdown",
   "metadata": {},
   "source": [
    "Note that you get a different answer if the varibles are floats instead of integers."
   ]
  },
  {
   "cell_type": "code",
   "execution_count": 20,
   "metadata": {
    "collapsed": false
   },
   "outputs": [
    {
     "name": "stdout",
     "output_type": "stream",
     "text": [
      "Adding two floats:     7.0\n",
      "Dividing two floats:   0.75\n"
     ]
    }
   ],
   "source": [
    "x=3.0\n",
    "y=4.0\n",
    "print \"Adding two floats:    \", x + y\n",
    "print \"Dividing two floats:  \", x/y"
   ]
  },
  {
   "cell_type": "markdown",
   "metadata": {},
   "source": [
    "If you add a string and a number together you will get an error."
   ]
  },
  {
   "cell_type": "code",
   "execution_count": 21,
   "metadata": {
    "collapsed": false
   },
   "outputs": [
    {
     "ename": "TypeError",
     "evalue": "cannot concatenate 'str' and 'int' objects",
     "output_type": "error",
     "traceback": [
      "\u001b[0;31m---------------------------------------------------------------------------\u001b[0m",
      "\u001b[0;31mTypeError\u001b[0m                                 Traceback (most recent call last)",
      "\u001b[0;32m<ipython-input-21-c57c02453e6c>\u001b[0m in \u001b[0;36m<module>\u001b[0;34m()\u001b[0m\n\u001b[1;32m      1\u001b[0m \u001b[0mx\u001b[0m \u001b[0;34m=\u001b[0m \u001b[0;34m\"3\"\u001b[0m     \u001b[0;31m#this is a string and not a number because it has quotes around it\u001b[0m\u001b[0;34m\u001b[0m\u001b[0m\n\u001b[1;32m      2\u001b[0m \u001b[0my\u001b[0m \u001b[0;34m=\u001b[0m \u001b[0;36m4\u001b[0m\u001b[0;34m\u001b[0m\u001b[0m\n\u001b[0;32m----> 3\u001b[0;31m \u001b[0;32mprint\u001b[0m \u001b[0mx\u001b[0m \u001b[0;34m+\u001b[0m \u001b[0my\u001b[0m\u001b[0;34m\u001b[0m\u001b[0m\n\u001b[0m",
      "\u001b[0;31mTypeError\u001b[0m: cannot concatenate 'str' and 'int' objects"
     ]
    }
   ],
   "source": [
    "x = \"3\"     #this is a string and not a number because it has quotes around it\n",
    "y = 4\n",
    "print x + y"
   ]
  },
  {
   "cell_type": "markdown",
   "metadata": {},
   "source": [
    "You can convert from a string containing only number characters to an integer with the int() function or a decimal number with the float() function. Note that if you perform arithmetic on using integers and floats, the integers will be converted to floating point (decimal numbers)."
   ]
  },
  {
   "cell_type": "code",
   "execution_count": 22,
   "metadata": {
    "collapsed": false
   },
   "outputs": [
    {
     "name": "stdout",
     "output_type": "stream",
     "text": [
      "This is an integer number: 7\n",
      "This is a decimal number: 7.0\n"
     ]
    }
   ],
   "source": [
    "x = \"3\"\n",
    "y = 4\n",
    "print \"This is an integer number:\", int(x) + y\n",
    "print \"This is a decimal number:\", float(x) + y"
   ]
  },
  {
   "cell_type": "markdown",
   "metadata": {},
   "source": [
    "The range function range(n) creates a list of numbers from 0 to n-1."
   ]
  },
  {
   "cell_type": "code",
   "execution_count": 23,
   "metadata": {
    "collapsed": false
   },
   "outputs": [
    {
     "data": {
      "text/plain": [
       "[0, 1, 2]"
      ]
     },
     "execution_count": 23,
     "metadata": {},
     "output_type": "execute_result"
    }
   ],
   "source": [
    "range(3)"
   ]
  },
  {
   "cell_type": "markdown",
   "metadata": {
    "collapsed": true
   },
   "source": [
    "You can also use the form range(start, stop, step). The list of numbers will always end before the stop value."
   ]
  },
  {
   "cell_type": "code",
   "execution_count": 24,
   "metadata": {
    "collapsed": false
   },
   "outputs": [
    {
     "name": "stdout",
     "output_type": "stream",
     "text": [
      "[0, 2, 4, 6, 8]\n",
      "[1, 3, 5, 7, 9]\n"
     ]
    }
   ],
   "source": [
    "print range(0,10,2)\n",
    "print range(1,10,2)"
   ]
  },
  {
   "cell_type": "markdown",
   "metadata": {},
   "source": [
    "Sometimes one would like to perform a task a certain number of times. To do this programs create a loop. In python the first line sets up the number of times the loop is performed. The body of the loop in indented from the rest of the program. Note: Normally a print statement \"prints\" a return at the end. Putting a comma after the print statement causes the next print statement to print on the same line."
   ]
  },
  {
   "cell_type": "code",
   "execution_count": 26,
   "metadata": {
    "collapsed": false
   },
   "outputs": [
    {
     "name": "stdout",
     "output_type": "stream",
     "text": [
      "0 1 2 3 4 5 6 7 8 9 10 11\n"
     ]
    }
   ],
   "source": [
    "for i in range(12):\n",
    "    print i,"
   ]
  },
  {
   "cell_type": "markdown",
   "metadata": {},
   "source": [
    "For the first execution of the loop, i is set equal to the first value in the range list. i is set to a new value for each successive execution of the loop until all the values in the range list are used up. What do you think the output of the following loop will be?"
   ]
  },
  {
   "cell_type": "code",
   "execution_count": 32,
   "metadata": {
    "collapsed": false
   },
   "outputs": [
    {
     "name": "stdout",
     "output_type": "stream",
     "text": [
      "0 20 40 60 80 100 120 140 160 180\n"
     ]
    }
   ],
   "source": [
    "start=0\n",
    "stop=200\n",
    "step=20\n",
    "for i in range(start,stop,step):\n",
    "    print i,"
   ]
  },
  {
   "cell_type": "markdown",
   "metadata": {},
   "source": [
    "How would you change the parameters in the range command to print out only the even numbers less than 20? Go change the parameters and run the cell again."
   ]
  }
 ],
 "metadata": {
  "kernelspec": {
   "display_name": "Python 2",
   "language": "python",
   "name": "python2"
  },
  "language_info": {
   "codemirror_mode": {
    "name": "ipython",
    "version": 2
   },
   "file_extension": ".py",
   "mimetype": "text/x-python",
   "name": "python",
   "nbconvert_exporter": "python",
   "pygments_lexer": "ipython2",
   "version": "2.7.11"
  }
 },
 "nbformat": 4,
 "nbformat_minor": 0
}
