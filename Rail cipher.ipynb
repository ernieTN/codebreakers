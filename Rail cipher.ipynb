{
 "cells": [
  {
   "cell_type": "markdown",
   "metadata": {},
   "source": [
    "A <b>rail fence cipher</b> is writing each character of the message in a zig zag pattern on several lines.\n",
    "\n",
    "Message: \"We are discovered, flee at once\"\n",
    "<img src=\"files/railCipher.png\">\n",
    "Encoded Message: WECRL TEERD SOEEF EAOCA IVDEN"
   ]
  },
  {
   "cell_type": "markdown",
   "metadata": {},
   "source": [
    "The first ever military encryption device the <b>Spartan Scytale</b> dating back to the 5th century BC. The encoder would rap a length of leather around a shaft and write the letters along the shaft. The messager would wear the strip as a belt with the letters on the inside. Once the messager reaches the recipient, the recipient wraps the leather around a shaft of the same diameter to decode the message.\n",
    "\n",
    "<img src=\"files/romanscytale.png\">\n",
    "\n",
    "<b>Challenge #1 Encoding a message</b> The decoder needs to know how many letters fit around the shaft. Suppose in this case the diameter is the length of six letters. We will name the variable n that holds this number. Put the correct n, stop and step values in the program.\n",
    "\n",
    "<b>Challenge #2 Encoding a message</b> Encode the same message using a different diameter shaft."
   ]
  },
  {
   "cell_type": "code",
   "execution_count": 112,
   "metadata": {
    "collapsed": false
   },
   "outputs": [
    {
     "name": "stdout",
     "output_type": "stream",
     "text": [
      "We are discovered, flee at once\n",
      "Wearediscoveredfleeatonce\n",
      "W i r e e e s e a a c d t r o f o e v l n d e e c\n"
     ]
    }
   ],
   "source": [
    "message = \"We are discovered, flee at once\"\n",
    "print message\n",
    "\n",
    "message = message.replace(\" \",\"\")    #this python function replaces spaces with nothing\n",
    "message = message.replace(\",\",\"\")    #replaces commas with nothing\n",
    "print message\n",
    "\n",
    "n = 6                   #how many letters go around the diameter?\n",
    "stop = len(message)     #hint: how do you find the number of charcters in a message?\n",
    "step =  n               #put the index the loop needs to step at before this comment\n",
    "\n",
    "for start in range(n):                  #outer loop for each row of letters\n",
    "    for i in range(start, stop, step):\n",
    "        substring = message[i:i+1]\n",
    "        print substring,"
   ]
  },
  {
   "cell_type": "markdown",
   "metadata": {},
   "source": [
    "When the length of the encoded message is not an even multiple of n(number of characters that fit around the shaft). To get around this one can add characters to the end of the message before encoding. Normally one would use random letters but in this illustration, we will use x's so one can see they are evenly distributed in the encoded message."
   ]
  },
  {
   "cell_type": "code",
   "execution_count": 113,
   "metadata": {
    "collapsed": false
   },
   "outputs": [
    {
     "name": "stdout",
     "output_type": "stream",
     "text": [
      "We are discovered, flee at once\n",
      "Wearediscoveredfleeatonce\n",
      "W i r e e e s e a x a c d t x r o f o x e v l n x d e e c x\n"
     ]
    }
   ],
   "source": [
    "message = \"We are discovered, flee at once\"\n",
    "print message\n",
    "\n",
    "message = message.replace(\" \",\"\")    #this python function replaces spaces with nothing\n",
    "message = message.replace(\",\",\"\")    #replaces commas with nothing\n",
    "print message\n",
    "\n",
    "n = 6             \n",
    "leng = len(message)\n",
    "remain = leng%n\n",
    "extra = n - remain\n",
    "if remain <> 0:\n",
    "    for k in range(extra):\n",
    "        message = message + \"x\"\n",
    "step =  n               #put the index the loop needs to step at before this comment\n",
    "stop = leng + extra\n",
    "for start in range(n):                  #outer loop for each row of letters\n",
    "    for i in range(start, stop, step):\n",
    "        substring = message[i:i+1]\n",
    "        print substring,"
   ]
  },
  {
   "cell_type": "markdown",
   "metadata": {},
   "source": [
    "<b>Challenge #3</b> How would one decode the message? Cut and paste your coded message from above and set it equal to the message"
   ]
  },
  {
   "cell_type": "code",
   "execution_count": 115,
   "metadata": {
    "collapsed": false
   },
   "outputs": [
    {
     "name": "stdout",
     "output_type": "stream",
     "text": [
      "W i r e e e s e a x a c d t x r o f o x e v l n x d e e c x\n",
      "Wireeeseaxacdtxrofoxevlnxdeecx\n",
      "W e a r e d i s c o v e r e d f l e e a t o n c e x x x x x\n"
     ]
    }
   ],
   "source": [
    "message = \"W i r e e e s e a x a c d t x r o f o x e v l n x d e e c x\"\n",
    "print message\n",
    "\n",
    "message = message.replace(\" \",\"\")    #this python function replaces spaces with nothing\n",
    "\n",
    "print message\n",
    "\n",
    "n = 6\n",
    "leng = len(message)\n",
    "stop = leng\n",
    "n2 =  leng / n\n",
    "step = n2\n",
    "for start in range(n2):                  #outer loop for each row of letters\n",
    "    for i in range(start, stop, step):\n",
    "        substring = message[i:i+1]\n",
    "        print substring,"
   ]
  },
  {
   "cell_type": "markdown",
   "metadata": {},
   "source": [
    "<b>Challenge #4</b> What if you intercepted the messenger? You don't know the diameter of the shaft. You are an evil spy that works for the other side. What if you wanted to test different diameters ranging from 4 letters long to 9 letters long? What do you think n is for the message below?"
   ]
  },
  {
   "cell_type": "code",
   "execution_count": 116,
   "metadata": {
    "collapsed": false
   },
   "outputs": [
    {
     "name": "stdout",
     "output_type": "stream",
     "text": [
      "Testing n =  4     I e p e r e t x m a s u g d x e c s t n e r h x\n",
      "Testing n =  5     I c a p t u r e d t h e m e s s e n g e r x x x\n",
      "Testing n =  6     I c a p t u r e d t h e m e s s e n g e r x x x\n",
      "Testing n =  7     I g e d p x e e r c e s t t x n m e a r s h u x\n",
      "Testing n =  8     I g e d p x e e r c e s t t x n m e a r s h u x\n"
     ]
    }
   ],
   "source": [
    "message = \"I r m g c e e e a d s r p t s x t h e x u e n x\"\n",
    "#print message\n",
    "message = message.replace(\" \",\"\")    #this python function replaces spaces with nothing\n",
    "#print message\n",
    "nstart = 4\n",
    "nstop = 9\n",
    "nstep = 1\n",
    "\n",
    "\n",
    "leng = len(message)\n",
    "stop = leng\n",
    "\n",
    "for n in range(nstart,nstop,nstep):\n",
    "    n2 =  leng / n\n",
    "    step = n2\n",
    "    print \"Testing n = \", n, \"   \",\n",
    "    for start in range(n2):                  #outer loop for each row of letters\n",
    "        for i in range(start, stop, step):\n",
    "            substring = message[i:i+1]\n",
    "            print substring,\n",
    "    print"
   ]
  },
  {
   "cell_type": "code",
   "execution_count": null,
   "metadata": {
    "collapsed": true
   },
   "outputs": [],
   "source": []
  }
 ],
 "metadata": {
  "kernelspec": {
   "display_name": "Python 2",
   "language": "python",
   "name": "python2"
  },
  "language_info": {
   "codemirror_mode": {
    "name": "ipython",
    "version": 2
   },
   "file_extension": ".py",
   "mimetype": "text/x-python",
   "name": "python",
   "nbconvert_exporter": "python",
   "pygments_lexer": "ipython2",
   "version": "2.7.11"
  }
 },
 "nbformat": 4,
 "nbformat_minor": 0
}
