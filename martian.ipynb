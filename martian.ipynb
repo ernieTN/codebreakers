{
 "cells": [
  {
   "cell_type": "markdown",
   "metadata": {},
   "source": [
    "The python compiler the will ignore any lines that are commented out with a #. So we can test the messages one at a time by commenting out all the messages we are not interested in.\n",
    "\n",
    "The first loop breaks up the message into 2 character parts.\n",
    "\n",
    "The second loop converts each hexidecimal number to a character from the alphabet. To decode the substring from hex to ascii one uses the function: variableNameOfString.decode('hex')\n",
    "\n",
    "Challenge #1 put the correct start, stop and step values in the program.\n",
    "Challenge #2 decode each message by commenting out but the one you are interested in. When recording the fourth message some dust caused the camera to hesitate during rotation and Mark recorded an extra character. How can you fix it?"
   ]
  },
  {
   "cell_type": "code",
   "execution_count": 1,
   "metadata": {
    "collapsed": false
   },
   "outputs": [
    {
     "name": "stdout",
     "output_type": "stream",
     "text": [
      "48 4F 57 20 41 4C 49 56 45 3F\n",
      "H O W   A L I V E ?\n"
     ]
    }
   ],
   "source": [
    "message = \"484F5720414C4956453F\"\n",
    "#message = \"43524F50533F\"\n",
    "#message = \"4252494E4720534A524E52204F5554\"\n",
    "#message = \"44d41524b204143434944454e54414c4c592052455434f5244454420414e20455854524120434841524143544552\"\n",
    "\n",
    "#To break up the message into two character bits what should the start, stop, step characters be?\n",
    "\n",
    "start = 0    #put the index the loop needs to start at before this comment\n",
    "stop = len(message)     #hint: how do you find the number of charcters in a message?\n",
    "step =  2    #put the index the loop needs to step at before this comment\n",
    "\n",
    "for i in range(start, stop, step):\n",
    "    substring = message[i:i+2]\n",
    "    print substring,\n",
    "    \n",
    "print\n",
    "\n",
    "for i in range(start,stop,step):\n",
    "    substring = message[i:i+2]\n",
    "    print substring.decode('hex'),"
   ]
  },
  {
   "cell_type": "markdown",
   "metadata": {},
   "source": []
  }
 ],
 "metadata": {
  "kernelspec": {
   "display_name": "Python 2",
   "language": "python",
   "name": "python2"
  },
  "language_info": {
   "codemirror_mode": {
    "name": "ipython",
    "version": 2
   },
   "file_extension": ".py",
   "mimetype": "text/x-python",
   "name": "python",
   "nbconvert_exporter": "python",
   "pygments_lexer": "ipython2",
   "version": "2.7.11"
  }
 },
 "nbformat": 4,
 "nbformat_minor": 0
}
