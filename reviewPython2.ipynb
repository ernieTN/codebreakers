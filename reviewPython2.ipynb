{
 "cells": [
  {
   "cell_type": "markdown",
   "metadata": {},
   "source": [
    "<h2>A quick review of python commands.</h2>"
   ]
  },
  {
   "cell_type": "markdown",
   "metadata": {},
   "source": [
    "<b>Strings</b> We went over three types of variables last time: integers (whole numbers), decimals (also called floats), and strings. Adding strings will concatenate them.\n",
    "\n",
    "What do you think the output of the cell will be?\n",
    "What could you change to put a space between the period and the second sentence?"
   ]
  },
  {
   "cell_type": "code",
   "execution_count": 2,
   "metadata": {
    "collapsed": false
   },
   "outputs": [
    {
     "name": "stdout",
     "output_type": "stream",
     "text": [
      "This is a string. When you define it it must be set off with quotes.\n"
     ]
    }
   ],
   "source": [
    "string1 = \"This is a string. \"\n",
    "string2 = \"When you define it it must be set off with quotes.\"\n",
    "\n",
    "print string1+string2"
   ]
  },
  {
   "cell_type": "markdown",
   "metadata": {},
   "source": [
    "\n",
    "<b>Integers and Floats</b> What do you think the output of the three print statements will be?\n",
    "Do you think the last two print statements will have the same output? Why or why not?"
   ]
  },
  {
   "cell_type": "code",
   "execution_count": 3,
   "metadata": {
    "collapsed": false
   },
   "outputs": [
    {
     "name": "stdout",
     "output_type": "stream",
     "text": [
      "5.0\n",
      "0\n",
      "0.666666666667\n"
     ]
    }
   ],
   "source": [
    "integer1 = 2\n",
    "integer2 = 3\n",
    "decimal = 3.0\n",
    "print integer1 + decimal\n",
    "print integer1/integer2\n",
    "print integer1/decimal"
   ]
  },
  {
   "cell_type": "markdown",
   "metadata": {},
   "source": [
    "You can find the length (number of characters) of a string with len(variableName) function"
   ]
  },
  {
   "cell_type": "code",
   "execution_count": 4,
   "metadata": {
    "collapsed": false
   },
   "outputs": [
    {
     "name": "stdout",
     "output_type": "stream",
     "text": [
      "6\n"
     ]
    }
   ],
   "source": [
    "stringName = \"123456\"\n",
    "print len(stringName)"
   ]
  },
  {
   "cell_type": "markdown",
   "metadata": {},
   "source": [
    "You can find the character at any index (location: first, second....) of a string by putting the index in brackets after the varible name. Keep in mind that indexing starts at zero. So the first character has an index of 0 and the second character has an index of 1 and so on.\n",
    "\n",
    "What do you think the output of the following print statements will be?"
   ]
  },
  {
   "cell_type": "code",
   "execution_count": 5,
   "metadata": {
    "collapsed": false
   },
   "outputs": [
    {
     "name": "stdout",
     "output_type": "stream",
     "text": [
      "a\n",
      "c\n",
      "e\n"
     ]
    }
   ],
   "source": [
    "string = \"abcde\"\n",
    "print string[0]\n",
    "print string[2]\n",
    "print string[4]"
   ]
  },
  {
   "cell_type": "markdown",
   "metadata": {},
   "source": [
    "<b>Substrings</b> To get a substring use the VariableName[start:end] syntax. The first number is the index of the first character you would like returned. The second number is the index <b>after</b> the last character you would like. It is as if an imaginary knife is cutting between the characters and the divisions between the characters are numbered starting with 0th \"cut\" before the first character and nth or last cut after the nth or last character.\n",
    "<img src=\"files/pythonslice.png\">\n",
    "What do you think each of these commands will return?"
   ]
  },
  {
   "cell_type": "code",
   "execution_count": null,
   "metadata": {
    "collapsed": false
   },
   "outputs": [],
   "source": [
    "string = \"abcde\"\n",
    "x=len(string)\n",
    "print \"Length is\", x\n",
    "print string[2:5]\n",
    "print string[:x]\n",
    "print string[0:5]\n",
    "print string[0:-1]"
   ]
  },
  {
   "cell_type": "markdown",
   "metadata": {},
   "source": [
    "\n",
    "<b>The Range Function</b> The range function range(n) creates a list of numbers from 0 to n-1. What do you think the output will be if you run the range function using the number 3?"
   ]
  },
  {
   "cell_type": "code",
   "execution_count": null,
   "metadata": {
    "collapsed": false
   },
   "outputs": [],
   "source": [
    "range(3)"
   ]
  },
  {
   "cell_type": "markdown",
   "metadata": {
    "collapsed": true
   },
   "source": [
    "You can also use the form range(start, stop, step). The list of numbers will always end before the stop value. What do you think the output of the following two print statements will be?"
   ]
  },
  {
   "cell_type": "code",
   "execution_count": null,
   "metadata": {
    "collapsed": false
   },
   "outputs": [],
   "source": [
    "print range(0,10,2)\n",
    "print range(1,10,2)"
   ]
  },
  {
   "cell_type": "markdown",
   "metadata": {},
   "source": [
    "<b>Loops</b> Sometimes one would like to perform a task a certain number of times. To do this programs create a loop. In python the first line sets up the number of times the loop is performed. The body of the loop in indented from the rest of the program."
   ]
  },
  {
   "cell_type": "code",
   "execution_count": null,
   "metadata": {
    "collapsed": false
   },
   "outputs": [],
   "source": [
    "for i in range(3):\n",
    "    print \"inside loop, prints once for each interation of the loop\"\n",
    "print \"outside loop, prints once\""
   ]
  },
  {
   "cell_type": "markdown",
   "metadata": {},
   "source": [
    "For the first execution of the loop, i is set equal to the first value in the range list. i is set to a new value for each successive execution of the loop until all the values in the range list are used up. Note: Normally a print statement \"prints\" a return at the end. Putting a comma after the print statement causes the next print statement to print on the same line.\n",
    "\n",
    "What do you think the output of the following loop will be?"
   ]
  },
  {
   "cell_type": "code",
   "execution_count": null,
   "metadata": {
    "collapsed": false
   },
   "outputs": [],
   "source": [
    "for i in range(12):\n",
    "    print i,"
   ]
  },
  {
   "cell_type": "markdown",
   "metadata": {},
   "source": [
    "What do you think the output of the following loop will be?"
   ]
  },
  {
   "cell_type": "code",
   "execution_count": null,
   "metadata": {
    "collapsed": false
   },
   "outputs": [],
   "source": [
    "start=0\n",
    "stop=200\n",
    "step=20\n",
    "for i in range(start,stop,step):\n",
    "    print i,"
   ]
  },
  {
   "cell_type": "markdown",
   "metadata": {},
   "source": [
    "One can also nest loops. What do you think the output of the following nested loop will be?"
   ]
  },
  {
   "cell_type": "code",
   "execution_count": null,
   "metadata": {
    "collapsed": false
   },
   "outputs": [],
   "source": [
    "for i in range(3):\n",
    "    for j in range(2):\n",
    "        print \"outer loop index is\", i, \"inner loop index is\", j        "
   ]
  },
  {
   "cell_type": "markdown",
   "metadata": {},
   "source": [
    "If statements work in a similar way to loops. There is a test condition and if the condition is true, there are indented statements that get executed."
   ]
  },
  {
   "cell_type": "code",
   "execution_count": null,
   "metadata": {
    "collapsed": false
   },
   "outputs": [],
   "source": [
    "if 3<4:\n",
    "    print \"of course 3 is less than 4\"\n",
    "if 3>4:\n",
    "    print \"this line won't print\""
   ]
  },
  {
   "cell_type": "code",
   "execution_count": 8,
   "metadata": {
    "collapsed": false
   },
   "outputs": [
    {
     "data": {
      "text/plain": [
       "2"
      ]
     },
     "execution_count": 8,
     "metadata": {},
     "output_type": "execute_result"
    }
   ],
   "source": [
    "34%8"
   ]
  },
  {
   "cell_type": "code",
   "execution_count": null,
   "metadata": {
    "collapsed": true
   },
   "outputs": [],
   "source": []
  }
 ],
 "metadata": {
  "kernelspec": {
   "display_name": "Python 2",
   "language": "python",
   "name": "python2"
  },
  "language_info": {
   "codemirror_mode": {
    "name": "ipython",
    "version": 2
   },
   "file_extension": ".py",
   "mimetype": "text/x-python",
   "name": "python",
   "nbconvert_exporter": "python",
   "pygments_lexer": "ipython2",
   "version": "2.7.11"
  }
 },
 "nbformat": 4,
 "nbformat_minor": 0
}
